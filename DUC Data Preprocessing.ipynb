{
 "cells": [
  {
   "cell_type": "markdown",
   "metadata": {},
   "source": [
    " - https://machinelearningmastery.com/develop-word-embedding-model-predicting-movie-review-sentiment/\n",
    " - https://github.com/alexvlis/extractive-document-summarization"
   ]
  },
  {
   "cell_type": "code",
   "execution_count": 1,
   "metadata": {},
   "outputs": [],
   "source": [
    "from rouge import Rouge\n",
    "import os\n",
    "from nltk import tokenize"
   ]
  },
  {
   "cell_type": "code",
   "execution_count": 2,
   "metadata": {},
   "outputs": [
    {
     "name": "stderr",
     "output_type": "stream",
     "text": [
      "Using TensorFlow backend.\n"
     ]
    }
   ],
   "source": [
    "import gensim\n",
    "import numpy as np\n",
    "from keras.preprocessing.text import Tokenizer\n",
    "from keras.preprocessing.sequence import pad_sequences\n",
    "\n",
    "import tensorflow as tf\n",
    "\n",
    "from tensorflow.keras import  layers, models\n",
    "import matplotlib.pyplot as plt\n",
    "import nltk"
   ]
  },
  {
   "cell_type": "code",
   "execution_count": 3,
   "metadata": {},
   "outputs": [],
   "source": [
    "rouge = Rouge()"
   ]
  },
  {
   "cell_type": "code",
   "execution_count": 4,
   "metadata": {},
   "outputs": [],
   "source": [
    "import pandas as pd\n",
    "import pickle\n",
    "import sys\n",
    "import warnings\n",
    "warnings.filterwarnings(\"ignore\")"
   ]
  },
  {
   "cell_type": "markdown",
   "metadata": {},
   "source": [
    "### Data load for DUC Dataset."
   ]
  },
  {
   "cell_type": "code",
   "execution_count": 5,
   "metadata": {},
   "outputs": [],
   "source": [
    "def extractText(path):\n",
    "    f = open(path, \"r\")\n",
    "    fullText = f.read().replace(\"\\n\", \" \")\n",
    "    f.close()        \n",
    "    sentences = \"\"\n",
    "    textIndex = fullText.find(\"<TEXT>\")\n",
    "\n",
    "    while textIndex != -1: \n",
    "        sentences += fullText[textIndex + 6 : fullText.find(\"</TEXT>\", textIndex) ]\n",
    "        textIndex = fullText.find(\"<TEXT>\", textIndex + 1)\n",
    "\n",
    "    #old = sentences\n",
    "    sentences = sentences.replace(\"<P>\", \" \")\n",
    "    sentences = sentences.replace(\"</P>\", \" \")\n",
    "    sentences = sentences.replace(\";\", \" \")\n",
    "\n",
    "    return tokenize.sent_tokenize(sentences)"
   ]
  },
  {
   "cell_type": "code",
   "execution_count": 6,
   "metadata": {},
   "outputs": [],
   "source": [
    "def parsePerdocs(path):\n",
    "    f = open(path, \"r\")\n",
    "    \n",
    "    # load all lines into a single string\n",
    "    fullText = f.read().replace(\"\\n\", \" \")\n",
    "    f.close()\n",
    "    \n",
    "    # nltk attempt\n",
    "    summaries = {} # { docID : summary }\n",
    "    sumIndex = fullText.find(\"DOCREF=\")\n",
    "   \n",
    "    # gets all of the summaries and stores them in the appropriate places \n",
    "    while sumIndex != -1:\n",
    "        docID = fullText[sumIndex + 8:fullText.find(\"\\\"\", sumIndex + 9)]\n",
    "        \n",
    "        startSum = fullText.find(\">\", sumIndex)\n",
    "        endSum = fullText.find(\"</SUM>\", sumIndex)\n",
    "\n",
    "        text = fullText[startSum + 1:endSum]\n",
    "        text = text.replace(\"<P>\", \" \")\n",
    "        text = text.replace(\"</P>\", \" \")\n",
    "\n",
    "        summaries[docID] = text\n",
    "\n",
    "        sumIndex = fullText.find(\"DOCREF=\", endSum) \n",
    "    \n",
    "    for k in summaries.keys():\n",
    "        summaries[k] = tokenize.sent_tokenize(summaries[k])\n",
    "\n",
    "    return summaries"
   ]
  },
  {
   "cell_type": "code",
   "execution_count": 7,
   "metadata": {},
   "outputs": [],
   "source": [
    "# Extract text and summary\n",
    "\n",
    "dataRoot = \"C:/Users/amitp/Downloads/extractive-document-summarization-master/data/DUC2001_Summarization_Documents/data/training\"\n",
    "\n",
    "Data = {}\n",
    "Summaries = {}\n",
    "\n",
    "# running count variable -- keeps track of the total size\n",
    "totalSentences = 0 \n",
    "\n",
    "# go through all of the roots of the docs\n",
    "walker = os.walk(dataRoot)\n",
    "for x in walker:\n",
    "    path = x[0]\n",
    "    dirs = x[1]\n",
    "    files = x[2]\n",
    "    #print(files)\n",
    "    if len(dirs) == 0:\n",
    "        if 'perdocs' not in files:\n",
    "            for f in files:\n",
    "                text = extractText(path + \"/\" + f)\n",
    "                totalSentences += len(text)\n",
    "                Data[f] = text\n",
    "        else:\n",
    "            summaries = parsePerdocs(path + \"/perdocs\")\n",
    "            for k in summaries.keys():\n",
    "                Summaries[k] = summaries[k]\n",
    "                \n",
    "#nx3output = _packageInNumpyArray(rawSummaries, rawData, rougeSaliency.saliency)"
   ]
  },
  {
   "cell_type": "code",
   "execution_count": 8,
   "metadata": {},
   "outputs": [],
   "source": [
    "r_data = pd.DataFrame(Data.items(),columns=['ID','text'])\n",
    "r_sumry = pd.DataFrame(Summaries.items(),columns=['ID','summaries'])\n",
    "processed_data = r_data.merge(r_sumry,how = 'inner',on = 'ID')"
   ]
  },
  {
   "cell_type": "code",
   "execution_count": 9,
   "metadata": {},
   "outputs": [
    {
     "data": {
      "image/png": "[encoded data removed]",
      "text/plain": [
       "<Figure size 1008x432 with 2 Axes>"
      ]
     },
     "metadata": {
      "needs_background": "light"
     },
     "output_type": "display_data"
    }
   ],
   "source": [
    "# check sentence length for sentence padding\n",
    "\n",
    "sent_length = [len(i) for i in r_data.text]\n",
    "#print(sent_length)\n",
    "sumry_length = [len(i) for i in r_sumry.summaries]\n",
    "\n",
    "fig = plt.figure(figsize=(14,6)) # Create matplotlib figure\n",
    "fig.text(0.04, 0.5, 'Frequency', va='center', rotation='vertical',fontname = 'Times New Roman',fontsize = 16)\n",
    "fig.text(0.5, 0.04, 'Sentences length', ha='center',fontname = 'Times New Roman',fontsize = 16)\n",
    "fig.text(0.5, 1, 'DUC dataset', ha='center',fontname = 'Times New Roman',fontsize = 16)\n",
    "ax = fig.add_subplot(121) # Create matplotlib axes\n",
    "ax2 = fig.add_subplot(122) # Create another axes that shares the same x-axis as ax.\n",
    "\n",
    "ax.hist(sent_length,bins = 30,color=\"blue\", alpha = 0.6,rwidth= 0.8)\n",
    "ax.set_title(\"Text to summerize\", fontsize=12)\n",
    "\n",
    "ax2.hist(sumry_length,bins = 30,color=\"blue\", alpha = 0.6,rwidth= 0.8)\n",
    "ax2.set_title(\"summaries\", fontsize=12)\n",
    "\n",
    "plt.show()\n"
   ]
  },
  {
   "cell_type": "code",
   "execution_count": 10,
   "metadata": {},
   "outputs": [
    {
     "data": {
      "text/plain": [
       "12828"
      ]
     },
     "execution_count": 10,
     "metadata": {},
     "output_type": "execute_result"
    }
   ],
   "source": [
    "# total numner of sentences in text \n",
    "totalSentences = sum([len(i)for i in processed_data.text])\n",
    "totalSentences"
   ]
  },
  {
   "cell_type": "code",
   "execution_count": 11,
   "metadata": {},
   "outputs": [
    {
     "data": {
      "text/plain": [
       "ID                                               AP900529-0104\n",
       "text         [    Populist reformer Boris N. Yeltsin won th...\n",
       "summaries    [  Populist reformer Boris Yeltsin won the pre...\n",
       "Name: 200, dtype: object"
      ]
     },
     "execution_count": 11,
     "metadata": {},
     "output_type": "execute_result"
    }
   ],
   "source": [
    "processed_data.loc[200]"
   ]
  },
  {
   "cell_type": "code",
   "execution_count": 12,
   "metadata": {},
   "outputs": [],
   "source": [
    "# obtain the salience score for the response variable.\n",
    "\n",
    "alpha = 0.8\n",
    "cind = 0\n",
    "dt_smry_score = np.zeros((totalSentences, 3), dtype=object)\n",
    "for i,j in enumerate(processed_data.text):\n",
    "    sentences =j\n",
    "    summary = processed_data.summaries[i]\n",
    "    summary = \" \".join (processed_data.summaries[i])\n",
    "\n",
    "    for s in sentences:\n",
    "        dt_smry_score [cind, 0] = processed_data.ID[i]\n",
    "        dt_smry_score [cind, 1] = s\n",
    "        try:\n",
    "            R1 = rouge.get_scores(s, summary)[0]['rouge-1']['f']\n",
    "            R2 = rouge.get_scores(s, summary)[0]['rouge-2']['f']\n",
    "            dt_smry_score [cind, 2] = alpha * R1 + (1 - alpha) * R2\n",
    "\n",
    "        except:\n",
    "            dt_smry_score [cind, 2] = -1\n",
    "        cind = cind+1"
   ]
  },
  {
   "cell_type": "code",
   "execution_count": 13,
   "metadata": {},
   "outputs": [
    {
     "data": {
      "text/plain": [
       "\"     But Thomas, who has risen in Republican ranks as an advocate of bootstrap conservatism, would present a striking change from Marshall, a civil-rights pioneer and an anchor of the court's declining liberal faction.\""
      ]
     },
     "execution_count": 13,
     "metadata": {},
     "output_type": "execute_result"
    }
   ],
   "source": [
    "dt_smry_score[:,1][0]"
   ]
  },
  {
   "cell_type": "code",
   "execution_count": 14,
   "metadata": {},
   "outputs": [],
   "source": [
    "sentences = dt_smry_score[:,1]\n",
    "#Load Google pre-trained words \n",
    "embedding_model = gensim.models.KeyedVectors.load_word2vec_format(\n",
    "    'C:/Users/amitp/Downloads/extractive-document-summarization-master/word2vec/GoogleNews-vectors-negative300.bin.gz', \n",
    "    binary=True, \n",
    "    limit=50000)\n"
   ]
  },
  {
   "cell_type": "code",
   "execution_count": 21,
   "metadata": {},
   "outputs": [],
   "source": [
    "word_vectors = embedding_model.wv\n",
    "max_sen_len = 250\n",
    "\n",
    "#tokenize sentences\n",
    "tokenizer = Tokenizer(num_words=30000,filters='!\"#$%&()*+,-./:;<=>?@[\\\\]^_`{|}~\\t\\n\\'',lower=True)\n",
    "tokenizer.fit_on_texts(sentences)\n",
    "sequences = tokenizer.texts_to_sequences(sentences) # replace words with its wordid\n",
    "padded_sequences = pad_sequences(sequences)\n",
    "word_index = tokenizer.word_index\n",
    "# word embedding with 300 dimensions\n",
    "embedding_weights = {key: embedding_model[word] if word in word_vectors.vocab else\n",
    "                              np.random.uniform(-0.25, 0.25, word_vectors.vector_size)\n",
    "                        for word, key in word_index.items()}"
   ]
  },
  {
   "cell_type": "code",
   "execution_count": 23,
   "metadata": {},
   "outputs": [
    {
     "ename": "MemoryError",
     "evalue": "Unable to allocate 860. KiB for an array with shape (367, 300) and data type float64",
     "output_type": "error",
     "traceback": [
      "\u001b[1;31m---------------------------------------------------------------------------\u001b[0m",
      "\u001b[1;31mMemoryError\u001b[0m                               Traceback (most recent call last)",
      "\u001b[1;32m<ipython-input-23-e1776f4ef325>\u001b[0m in \u001b[0;36m<module>\u001b[1;34m\u001b[0m\n\u001b[0;32m      1\u001b[0m \u001b[0membedding_weights\u001b[0m\u001b[1;33m[\u001b[0m\u001b[1;36m0\u001b[0m\u001b[1;33m]\u001b[0m \u001b[1;33m=\u001b[0m \u001b[0mnp\u001b[0m\u001b[1;33m.\u001b[0m\u001b[0mzeros\u001b[0m\u001b[1;33m(\u001b[0m\u001b[0mword_vectors\u001b[0m\u001b[1;33m.\u001b[0m\u001b[0mvector_size\u001b[0m\u001b[1;33m)\u001b[0m\u001b[1;33m\u001b[0m\u001b[1;33m\u001b[0m\u001b[0m\n\u001b[0;32m      2\u001b[0m \u001b[1;31m#Build a 3D array: 1D fnumber of sentences, 1D for the no of words and 1D for word embedding.\u001b[0m\u001b[1;33m\u001b[0m\u001b[1;33m\u001b[0m\u001b[1;33m\u001b[0m\u001b[0m\n\u001b[1;32m----> 3\u001b[1;33m \u001b[0membedded_sentences\u001b[0m \u001b[1;33m=\u001b[0m \u001b[0mnp\u001b[0m\u001b[1;33m.\u001b[0m\u001b[0mstack\u001b[0m\u001b[1;33m(\u001b[0m\u001b[1;33m[\u001b[0m\u001b[0mnp\u001b[0m\u001b[1;33m.\u001b[0m\u001b[0mstack\u001b[0m\u001b[1;33m(\u001b[0m\u001b[1;33m[\u001b[0m\u001b[0membedding_weights\u001b[0m\u001b[1;33m[\u001b[0m\u001b[0mt\u001b[0m\u001b[1;33m]\u001b[0m \u001b[1;32mfor\u001b[0m \u001b[0mt\u001b[0m \u001b[1;32min\u001b[0m \u001b[0ms\u001b[0m\u001b[1;33m]\u001b[0m\u001b[1;33m)\u001b[0m \u001b[1;32mfor\u001b[0m \u001b[0ms\u001b[0m \u001b[1;32min\u001b[0m \u001b[0mpadded_sequences\u001b[0m\u001b[1;33m]\u001b[0m\u001b[1;33m)\u001b[0m\u001b[1;33m\u001b[0m\u001b[1;33m\u001b[0m\u001b[0m\n\u001b[0m",
      "\u001b[1;32m<ipython-input-23-e1776f4ef325>\u001b[0m in \u001b[0;36m<listcomp>\u001b[1;34m(.0)\u001b[0m\n\u001b[0;32m      1\u001b[0m \u001b[0membedding_weights\u001b[0m\u001b[1;33m[\u001b[0m\u001b[1;36m0\u001b[0m\u001b[1;33m]\u001b[0m \u001b[1;33m=\u001b[0m \u001b[0mnp\u001b[0m\u001b[1;33m.\u001b[0m\u001b[0mzeros\u001b[0m\u001b[1;33m(\u001b[0m\u001b[0mword_vectors\u001b[0m\u001b[1;33m.\u001b[0m\u001b[0mvector_size\u001b[0m\u001b[1;33m)\u001b[0m\u001b[1;33m\u001b[0m\u001b[1;33m\u001b[0m\u001b[0m\n\u001b[0;32m      2\u001b[0m \u001b[1;31m#Build a 3D array: 1D fnumber of sentences, 1D for the no of words and 1D for word embedding.\u001b[0m\u001b[1;33m\u001b[0m\u001b[1;33m\u001b[0m\u001b[1;33m\u001b[0m\u001b[0m\n\u001b[1;32m----> 3\u001b[1;33m \u001b[0membedded_sentences\u001b[0m \u001b[1;33m=\u001b[0m \u001b[0mnp\u001b[0m\u001b[1;33m.\u001b[0m\u001b[0mstack\u001b[0m\u001b[1;33m(\u001b[0m\u001b[1;33m[\u001b[0m\u001b[0mnp\u001b[0m\u001b[1;33m.\u001b[0m\u001b[0mstack\u001b[0m\u001b[1;33m(\u001b[0m\u001b[1;33m[\u001b[0m\u001b[0membedding_weights\u001b[0m\u001b[1;33m[\u001b[0m\u001b[0mt\u001b[0m\u001b[1;33m]\u001b[0m \u001b[1;32mfor\u001b[0m \u001b[0mt\u001b[0m \u001b[1;32min\u001b[0m \u001b[0ms\u001b[0m\u001b[1;33m]\u001b[0m\u001b[1;33m)\u001b[0m \u001b[1;32mfor\u001b[0m \u001b[0ms\u001b[0m \u001b[1;32min\u001b[0m \u001b[0mpadded_sequences\u001b[0m\u001b[1;33m]\u001b[0m\u001b[1;33m)\u001b[0m\u001b[1;33m\u001b[0m\u001b[1;33m\u001b[0m\u001b[0m\n\u001b[0m",
      "\u001b[1;32m<__array_function__ internals>\u001b[0m in \u001b[0;36mstack\u001b[1;34m(*args, **kwargs)\u001b[0m\n",
      "\u001b[1;32mc:\\users\\amitp\\anaconda3\\envs\\tf\\lib\\site-packages\\numpy\\core\\shape_base.py\u001b[0m in \u001b[0;36mstack\u001b[1;34m(arrays, axis, out)\u001b[0m\n\u001b[0;32m    431\u001b[0m     \u001b[0msl\u001b[0m \u001b[1;33m=\u001b[0m \u001b[1;33m(\u001b[0m\u001b[0mslice\u001b[0m\u001b[1;33m(\u001b[0m\u001b[1;32mNone\u001b[0m\u001b[1;33m)\u001b[0m\u001b[1;33m,\u001b[0m\u001b[1;33m)\u001b[0m \u001b[1;33m*\u001b[0m \u001b[0maxis\u001b[0m \u001b[1;33m+\u001b[0m \u001b[1;33m(\u001b[0m\u001b[0m_nx\u001b[0m\u001b[1;33m.\u001b[0m\u001b[0mnewaxis\u001b[0m\u001b[1;33m,\u001b[0m\u001b[1;33m)\u001b[0m\u001b[1;33m\u001b[0m\u001b[1;33m\u001b[0m\u001b[0m\n\u001b[0;32m    432\u001b[0m     \u001b[0mexpanded_arrays\u001b[0m \u001b[1;33m=\u001b[0m \u001b[1;33m[\u001b[0m\u001b[0marr\u001b[0m\u001b[1;33m[\u001b[0m\u001b[0msl\u001b[0m\u001b[1;33m]\u001b[0m \u001b[1;32mfor\u001b[0m \u001b[0marr\u001b[0m \u001b[1;32min\u001b[0m \u001b[0marrays\u001b[0m\u001b[1;33m]\u001b[0m\u001b[1;33m\u001b[0m\u001b[1;33m\u001b[0m\u001b[0m\n\u001b[1;32m--> 433\u001b[1;33m     \u001b[1;32mreturn\u001b[0m \u001b[0m_nx\u001b[0m\u001b[1;33m.\u001b[0m\u001b[0mconcatenate\u001b[0m\u001b[1;33m(\u001b[0m\u001b[0mexpanded_arrays\u001b[0m\u001b[1;33m,\u001b[0m \u001b[0maxis\u001b[0m\u001b[1;33m=\u001b[0m\u001b[0maxis\u001b[0m\u001b[1;33m,\u001b[0m \u001b[0mout\u001b[0m\u001b[1;33m=\u001b[0m\u001b[0mout\u001b[0m\u001b[1;33m)\u001b[0m\u001b[1;33m\u001b[0m\u001b[1;33m\u001b[0m\u001b[0m\n\u001b[0m\u001b[0;32m    434\u001b[0m \u001b[1;33m\u001b[0m\u001b[0m\n\u001b[0;32m    435\u001b[0m \u001b[1;33m\u001b[0m\u001b[0m\n",
      "\u001b[1;32m<__array_function__ internals>\u001b[0m in \u001b[0;36mconcatenate\u001b[1;34m(*args, **kwargs)\u001b[0m\n",
      "\u001b[1;31mMemoryError\u001b[0m: Unable to allocate 860. KiB for an array with shape (367, 300) and data type float64"
     ]
    }
   ],
   "source": [
    "embedding_weights[0] = np.zeros(word_vectors.vector_size)\n",
    "#Build a 3D array: 1D fnumber of sentences, 1D for the no of words and 1D for word embedding. \n",
    "embedded_sentences = np.stack([np.stack([embedding_weights[t] for t in s]) for s in padded_sequences])\n"
   ]
  },
  {
   "cell_type": "code",
   "execution_count": null,
   "metadata": {},
   "outputs": [],
   "source": [
    "input_output = np.array([]) # data + rouge score\n",
    "for i in range(len(dt_smry_score)):\n",
    "    input_output = np.append(input_output,np.array([ embedded_sentences[i] , dt_smry_score[i,2] ]) )"
   ]
  },
  {
   "cell_type": "code",
   "execution_count": null,
   "metadata": {},
   "outputs": [],
   "source": [
    "embedded_sentences.shape,len(dt_smry_score[:,2])"
   ]
  },
  {
   "cell_type": "code",
   "execution_count": null,
   "metadata": {},
   "outputs": [],
   "source": [
    "embedded_sentences[4].shape"
   ]
  },
  {
   "cell_type": "code",
   "execution_count": null,
   "metadata": {},
   "outputs": [],
   "source": [
    "# split embedded data into multiple files and save it.\n",
    "num_parts = 8\n",
    "fileName = \"WordEmbeddingsToSaliency_duc\"\n",
    "start = 0\n",
    "\n",
    "for i in range(num_parts):\n",
    "    print(\"writing part,\",i + 1)\n",
    "    f = open(fileName + str(i + 1) + \".pickle\", \"wb\")\n",
    "    if i < num_parts - 1:\n",
    "        pickle.dump(input_output[start:(i + 1) * len(input_output)//num_parts], f)\n",
    "    else:\n",
    "        pickle.dump(input_output[start:], f)\n",
    "    f.close()\n",
    "    start = (i + 1) * len(input_output)//num_parts\n",
    "    print(start)"
   ]
  },
  {
   "cell_type": "code",
   "execution_count": null,
   "metadata": {},
   "outputs": [],
   "source": []
  }
 ],
 "metadata": {
  "kernelspec": {
   "display_name": "Python 3",
   "language": "python",
   "name": "python3"
  },
  "language_info": {
   "codemirror_mode": {
    "name": "ipython",
    "version": 3
   },
   "file_extension": ".py",
   "mimetype": "text/x-python",
   "name": "python",
   "nbconvert_exporter": "python",
   "pygments_lexer": "ipython3",
   "version": "3.7.7"
  }
 },
 "nbformat": 4,
 "nbformat_minor": 4
}
